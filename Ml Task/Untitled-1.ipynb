{
 "cells": [
  {
   "cell_type": "code",
   "execution_count": 1,
   "metadata": {
    "tags": []
   },
   "outputs": [
    {
     "name": "stdout",
     "output_type": "stream",
     "text": [
      "5\n"
     ]
    }
   ],
   "source": [
    "import os\n",
    "import requests\n",
    "import time\n",
    "from PIL import Image\n",
    "from io import BytesIO\n",
    "from geopy.geocoders import Nominatim\n",
    "import json\n",
    "\n",
    "# Функция для загрузки изображения и получения метаданных\n",
    "def download_image(api_key, location, pitch, heading):\n",
    "    params = {\n",
    "        'size': '640x640',\n",
    "        'location': location,\n",
    "        'pitch': pitch,\n",
    "        'heading': heading,\n",
    "        'fov': 90,\n",
    "        'key': api_key\n",
    "    }\n",
    "    response = requests.get('https://maps.googleapis.com/maps/api/streetview', params=params)\n",
    "    img = Image.open(BytesIO(response.content))\n",
    "    metadata = json.loads(response.headers['X-Goog-Streetview-Metadata'])\n",
    "    return img, metadata\n",
    "\n",
    "# Настройки\n",
    "api_key = 'ВАШ API-КЛЮЧ GOOGLE STREET VIEW'\n",
    "district = 'Москва'\n",
    "output_dir = 'dataset'\n",
    "num_images_per_building = 5\n",
    "min_floors = 3\n",
    "max_floors = 30\n",
    "\n",
    "# Определение границ района\n",
    "geolocator = Nominatim(user_agent='myapplication')\n",
    "location = geolocator.geocode(district)\n",
    "bounds = location.raw['boundingbox']\n",
    "\n",
    "# Создание директории для сохранения изображений\n",
    "if not os.path.exists(output_dir):\n",
    "    os.makedirs(output_dir)\n",
    "\n",
    "# Сбор координат для зданий в определенном районе\n",
    "coords = []\n",
    "for i in range(int(bounds[0]), int(bounds[1])+1):\n",
    "    for j in range(int(bounds[2]), int(bounds[3])+1):\n",
    "        address = geolocator.reverse(f'{i}, {j}').address\n",
    "        if 'улица' in address or 'проспект' in address or 'переулок' in address:\n",
    "            coords.append((i, j))\n",
    "\n",
    "# Загрузка изображений и сохранение метаданных для зданий\n",
    "count = 0\n",
    "for coord in coords:\n",
    "    for i in range(num_images_per_building):\n",
    "        try:\n",
    "            img, metadata = download_image(api_key, f'{coord[0]},{coord[1]}', 0, i*60)\n",
    "            num_floors = metadata['floors']\n",
    "            if num_floors >= min_floors and num_floors <= max_floors:\n",
    "                img.save(f'{output_dir}/image_{count}.jpg')\n",
    "                with open(f'{output_dir}/metadata_{count}.json', 'w') as f:\n"
   ]
  }
 ],
 "metadata": {
  "kernelspec": {
   "display_name": "Python 3",
   "language": "python",
   "name": "python3"
  },
  "language_info": {
   "codemirror_mode": {
    "name": "ipython",
    "version": 3
   },
   "file_extension": ".py",
   "mimetype": "text/x-python",
   "name": "python",
   "nbconvert_exporter": "python",
   "pygments_lexer": "ipython3",
   "version": "3.10.5"
  },
  "orig_nbformat": 4
 },
 "nbformat": 4,
 "nbformat_minor": 2
}
